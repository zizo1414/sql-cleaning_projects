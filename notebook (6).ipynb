{
 "cells": [
  {
   "cell_type": "markdown",
   "metadata": {
    "dc": {
     "key": "5"
    },
    "deletable": false,
    "editable": false,
    "run_control": {
     "frozen": true
    },
    "tags": [
     "context"
    ]
   },
   "source": [
    "## Practical Exam: Insurance Upgrades\n",
    "<p>Travel Assured provides travel services to its customers. They are based in the United States.</p>\n",
    "<p>Travel Assured provides everything from flights and hotel bookings to holiday insurance.</p>\n",
    "<p>The sales team wants to sell upgrades to customers. So they can do this, it is vital that the data is clean, accurate and available for reporting. </p>\n",
    "<p>They need your help to prepare some data before they start to run a new promotion. </p>\n",
    "<p>The data you need is in the database named <code>insurance</code>. </p>\n",
    "<p><strong>Database Schema</strong></p>\n",
    "<p><img src=\"https://assets.datacamp.com/production/project_1642/img/schema.png\" alt=\"database schema\"></p>\n",
    "<h2 id=\"task1\">Task 1</h2>\n",
    "<p>The sales team want to use customer information to target their new promotion. But, they think the data may not be clean enough to use. The table below shows what the sales team expect the data types and format to be.</p>\n",
    "<table>\n",
    "<thead>\n",
    "<tr>\n",
    "<th>Column Name</th>\n",
    "<th>Description</th>\n",
    "</tr>\n",
    "</thead>\n",
    "<tbody>\n",
    "<tr>\n",
    "<td>customer_id</td>\n",
    "<td>Unique integer (set by the database, can’t take any other value)</td>\n",
    "</tr>\n",
    "<tr>\n",
    "<td>location</td>\n",
    "<td>State names as a lower case string</td>\n",
    "</tr>\n",
    "<tr>\n",
    "<td>age</td>\n",
    "<td>Integer value giving age of customer</td>\n",
    "</tr>\n",
    "<tr>\n",
    "<td>registration_date</td>\n",
    "<td>Date of first registration with company (YYYY-MM-DD)</td>\n",
    "</tr>\n",
    "</tbody>\n",
    "</table>\n",
    "<p>Write a query to ensure that the <code>customer</code> table matches the description provided. </p>"
   ]
  },
  {
   "cell_type": "code",
   "execution_count": 0,
   "metadata": {
    "dc": {
     "key": "5"
    },
    "tags": [
     "sample_code"
    ]
   },
   "outputs": [],
   "source": [
    " \n",
    "%%sql \n",
    "postgresql:///insurance\n",
    "\n",
    "-- Execute your SQL commands here\n",
    "SELECT customer_id, \n",
    "      LOWER(location) as location, \n",
    "     SPLIT_PART(age,' ', 1)::INT AS age,\n",
    "    registration_date\n",
    "From customer;"
   ]
  },
  {
   "cell_type": "code",
   "execution_count": 0,
   "metadata": {
    "dc": {
     "key": "5"
    },
    "hide": true,
    "tags": [
     "tests"
    ]
   },
   "outputs": [],
   "source": [
    "%%nose\n",
    "\n",
    "import pandas as pd\n",
    "import numpy as np\n",
    "import re\n",
    "from pandas.api.types import is_numeric_dtype\n",
    "\n",
    "last_output = _\n",
    "\n",
    "test_solution = pd.read_csv('datasets/task1.csv')\n",
    " \n",
    "student_result = last_output.DataFrame().sort_values(by='customer_id')\n",
    "\n",
    "def test_ksa1():  \n",
    "    assert student_result.shape == (1500, 4), \\\n",
    "    \"Clean categorical and text data by manipulating strings. \"\n",
    "    assert (test_solution['location'].str.strip().values == student_result['location'].str.strip().values).all(), \\\n",
    "    \"Clean categorical and text data by manipulating strings. \"\n",
    "         \n",
    "def test_ksa2():\n",
    "    assert student_result.shape == (1500, 4), \\\n",
    "    \"Convert values between data types.\"\n",
    "    assert student_result['age'].dtype == 'int', \\\n",
    "    \"Convert values between data types.\"\n",
    "    assert (test_solution['age'].values == student_result['age'].values).all(), \\\n",
    "    \"Convert values between data types. \""
   ]
  },
  {
   "cell_type": "markdown",
   "metadata": {
    "dc": {
     "key": "12"
    },
    "deletable": false,
    "editable": false,
    "run_control": {
     "frozen": true
    },
    "tags": [
     "context"
    ]
   },
   "source": [
    "## Task 2\n",
    "<p>You have been informed that there has been a problem in the data entry. Some people who bought a new policy had their purchase type set to NULL instead of New.</p>\n",
    "<p>Return the corrected <code>purchase</code> table.</p>"
   ]
  },
  {
   "cell_type": "code",
   "execution_count": 0,
   "metadata": {
    "dc": {
     "key": "12"
    },
    "tags": [
     "sample_code"
    ]
   },
   "outputs": [],
   "source": [
    "%%sql \n",
    "postgresql:///insurance\n",
    "%%sql \n",
    "postgresql:///insurance\n",
    "\n",
    "-- Execute your SQL commands here\n",
    "SELECT purchase_id, COALESCE(purchase_type, 'New') AS purchase_type\n",
    "FROM purchase;"
   ]
  },
  {
   "cell_type": "code",
   "execution_count": 0,
   "metadata": {
    "dc": {
     "key": "12"
    },
    "hide": true,
    "tags": [
     "tests"
    ]
   },
   "outputs": [],
   "source": [
    "%%nose\n",
    "\n",
    "import pandas as pd\n",
    "import numpy as np\n",
    "import re\n",
    "from pandas.api.types import is_numeric_dtype\n",
    "\n",
    "last_output = _\n",
    "\n",
    "test_solution = pd.read_csv('datasets/task2.csv')\n",
    "\n",
    "student_result = last_output.DataFrame().sort_values(by='purchase_id')\n",
    "\n",
    "def test_ksa1():  \n",
    "    assert student_result.shape == (1500, 2), \\\n",
    "    \"Identify and replace missing values.\"\n",
    "    assert (test_solution['purchase_type'].str.strip().values == student_result['purchase_type'].str.strip().values).all(), \\\n",
    "    \"Identify and replace missing values.\""
   ]
  },
  {
   "cell_type": "markdown",
   "metadata": {
    "dc": {
     "key": "20"
    },
    "deletable": false,
    "editable": false,
    "run_control": {
     "frozen": true
    },
    "tags": [
     "context"
    ]
   },
   "source": [
    "## Task 3\n",
    "<p>The sales team wants to run a promotion on upgrades to international travel insurance policies. They only want to send this promotion to customers who have an active, US policy type.</p>\n",
    "<p><img src=\"https://assets.datacamp.com/production/project_1642/img/schema.png\" alt=\"database schema\"></p>\n",
    "<p>Write a query to provide the customer ID and start date for eligible customers. </p>"
   ]
  },
  {
   "cell_type": "code",
   "execution_count": 0,
   "metadata": {
    "dc": {
     "key": "20"
    },
    "tags": [
     "sample_code"
    ]
   },
   "outputs": [],
   "source": [
    "%%sql \n",
    "postgresql:///insurance  \n",
    " \n",
    "\n",
    "-- Execute your SQL commands here\n",
    "SELECT s.customer_id, p.start_date \n",
    "FROM sales s\n",
    "LEFT JOIN policy p ON s.policy_id = p.policy_id\n",
    "WHERE policy_type = 'US' AND active = 'True';"
   ]
  },
  {
   "cell_type": "code",
   "execution_count": 0,
   "metadata": {
    "dc": {
     "key": "20"
    },
    "hide": true,
    "tags": [
     "tests"
    ]
   },
   "outputs": [],
   "source": [
    "%%nose\n",
    "\n",
    "import pandas as pd\n",
    "import numpy as np\n",
    "import re\n",
    "from pandas.api.types import is_numeric_dtype\n",
    "\n",
    "last_output = _\n",
    "\n",
    "test_solution = pd.read_csv('datasets/task3.csv')\n",
    "\n",
    "student_result = last_output.DataFrame().sort_values(by='customer_id')\n",
    "\n",
    "test_solution['start_date'] = pd.to_datetime(test_solution['start_date'])\n",
    "student_result['start_date'] = pd.to_datetime(student_result['start_date'])\n",
    "\n",
    "def test_ksa1():  \n",
    "    assert student_result.shape == (382, 2), \\\n",
    "    \"Extract data based on different conditions using PostgreSQL.\"\n",
    "    assert (test_solution['customer_id'].values == student_result['customer_id'].values).all(), \\\n",
    "    \"Extract data based on different conditions using PostgreSQL.\"\n",
    "\n",
    "def test_ksa2():\n",
    "    assert student_result.shape == (382, 2), \\\n",
    "        \"Interpret a database schema and combine multiple tables by rows or columns using PostgreSQL.\"\n",
    "    assert (test_solution['start_date'] == student_result['start_date']).all(), \\\n",
    "        \"Interpret a database schema and combine multiple tables by rows or columns using PostgreSQL.\""
   ]
  },
  {
   "cell_type": "markdown",
   "metadata": {
    "dc": {
     "key": "28"
    },
    "deletable": false,
    "editable": false,
    "run_control": {
     "frozen": true
    },
    "tags": [
     "context"
    ]
   },
   "source": [
    "## Task 4\n",
    "<p>After the promotion has been sent, the sales team will need to monitor the number of active policy holders by policy type who purchased an upgrade.  </p>\n",
    "<p><img src=\"https://assets.datacamp.com/production/project_1642/img/schema.png\" alt=\"database schema\"></p>\n",
    "<p>Write a query that returns the data for the sales team to monitor. Your output should include <code>policy_type</code> and <code>number_active</code> columns.</p>"
   ]
  },
  {
   "cell_type": "code",
   "execution_count": 0,
   "metadata": {
    "dc": {
     "key": "28"
    },
    "tags": [
     "sample_code"
    ]
   },
   "outputs": [],
   "source": [
    "%%sql \n",
    "postgresql:///insurance\n",
    "%%sql \n",
    "postgresql:///insurance\n",
    "\n",
    "-- Execute your SQL commands here\n",
    "SELECT policy_type, COUNT(*) AS number_active\n",
    "FROM policy\n",
    "WHERE active = True AND policy_id IN(SELECT s.policy_id\n",
    "FROM sales s\n",
    "LEFT JOIN purchase p ON s.purchase_id = p.purchase_id\n",
    "WHERE purchase_type = 'Upgrade')\n",
    "GROUP BY policy_type;"
   ]
  },
  {
   "cell_type": "code",
   "execution_count": 0,
   "metadata": {
    "dc": {
     "key": "28"
    },
    "hide": true,
    "tags": [
     "tests"
    ]
   },
   "outputs": [],
   "source": [
    "%%nose\n",
    "\n",
    "import pandas as pd\n",
    "import numpy as np\n",
    "import re\n",
    "from pandas.api.types import is_numeric_dtype\n",
    "\n",
    "last_output = _\n",
    "\n",
    "test_solution = pd.read_csv('datasets/task4.csv')\n",
    "\n",
    "student_result = last_output.DataFrame().sort_values(by='policy_type',ascending=False)\n",
    "\n",
    "def test_ksa1():  \n",
    "    assert student_result.shape == (2, 2), \\\n",
    "    \"Aggregate numeric, categorical variables and dates by groups using PostgreSQL.\"\n",
    "    assert (test_solution['number_active'].values == student_result['number_active'].values).all(), \\\n",
    "    \"Aggregate numeric, categorical variables and dates by groups using PostgreSQL.\"\n",
    "\n",
    "def test_ksa2():  \n",
    "    assert student_result.shape == (2, 2), \\\n",
    "    \"Interpret a database schema and combine multiple tables by rows or columns using PostgreSQL.\"\n",
    "    assert (test_solution['policy_type'].str.strip().values == student_result['policy_type'].str.strip().values).all(),\\\n",
    "    \"Interpret a database schema and combine multiple tables by rows or columns using PostgreSQL.\""
   ]
  }
 ],
 "metadata": {
  "kernelspec": {
   "display_name": "Python 3 (ipykernel)",
   "language": "python",
   "name": "python3"
  },
  "language_info": {
   "codemirror_mode": {
    "name": "ipython",
    "version": 3
   },
   "file_extension": ".py",
   "mimetype": "text/x-python",
   "name": "python",
   "nbconvert_exporter": "python",
   "pygments_lexer": "ipython3",
   "version": "3.9.7"
  }
 },
 "nbformat": 4,
 "nbformat_minor": 2
}
